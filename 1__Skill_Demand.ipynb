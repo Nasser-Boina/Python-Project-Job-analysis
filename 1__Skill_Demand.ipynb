{
 "cells": [
  {
   "cell_type": "markdown",
   "metadata": {},
   "source": [
    "# What are the most demanded skills for the top 3 most popular data roles?\n",
    "\n",
    "#### Methodology\n",
    "1. Clean-up skill column\n",
    "2. Calculate skill count based on `job_title_short`\n",
    "3. Calculate skill percentage\n",
    "4. Plot final findings"
   ]
  },
  {
   "cell_type": "markdown",
   "metadata": {},
   "source": [
    "## Import Libraries and Data"
   ]
  },
  {
   "cell_type": "code",
   "execution_count": 3,
   "metadata": {},
   "outputs": [],
   "source": [
    "# Importing Libraries\n",
    "import ast\n",
    "import pandas as pd\n",
    "import seaborn as sns\n",
    "import matplotlib.pyplot as plt  \n",
    "\n",
    "# Loading Data\n",
    "df = pd.read_csv('data_jobs.csv')\n",
    "\n",
    "# Data Cleanup\n",
    "df['job_posted_date'] = pd.to_datetime(df['job_posted_date'])\n",
    "df['job_skills'] = df['job_skills'].apply(lambda x: ast.literal_eval(x) if pd.notna(x) else x)"
   ]
  },
  {
   "cell_type": "markdown",
   "metadata": {},
   "source": [
    "## Filter Data for the United States\n",
    "\n",
    "Filter the data for the market of the United States."
   ]
  },
  {
   "cell_type": "code",
   "execution_count": 5,
   "metadata": {},
   "outputs": [],
   "source": [
    "df_US = df[df['job_country'] == 'United States']"
   ]
  },
  {
   "cell_type": "markdown",
   "metadata": {},
   "source": [
    "## Explode Skills"
   ]
  },
  {
   "cell_type": "markdown",
   "metadata": {},
   "source": [
    "Converts the `job_skills` column from string representations of lists into actual list objects and then expands these lists so each skill appears in its own row. It then displays the `job_title` and `job_skills` columns, allowing us to analyze the distribution of skills across different data job titles."
   ]
  },
  {
   "cell_type": "code",
   "execution_count": 6,
   "metadata": {},
   "outputs": [
    {
     "data": {
      "text/html": [
       "<div>\n",
       "<style scoped>\n",
       "    .dataframe tbody tr th:only-of-type {\n",
       "        vertical-align: middle;\n",
       "    }\n",
       "\n",
       "    .dataframe tbody tr th {\n",
       "        vertical-align: top;\n",
       "    }\n",
       "\n",
       "    .dataframe thead th {\n",
       "        text-align: right;\n",
       "    }\n",
       "</style>\n",
       "<table border=\"1\" class=\"dataframe\">\n",
       "  <thead>\n",
       "    <tr style=\"text-align: right;\">\n",
       "      <th></th>\n",
       "      <th>job_title</th>\n",
       "      <th>job_skills</th>\n",
       "    </tr>\n",
       "  </thead>\n",
       "  <tbody>\n",
       "    <tr>\n",
       "      <th>0</th>\n",
       "      <td>Senior Clinical Data Engineer / Principal Clin...</td>\n",
       "      <td>NaN</td>\n",
       "    </tr>\n",
       "    <tr>\n",
       "      <th>3</th>\n",
       "      <td>LEAD ENGINEER - PRINCIPAL ANALYST - PRINCIPAL ...</td>\n",
       "      <td>python</td>\n",
       "    </tr>\n",
       "    <tr>\n",
       "      <th>3</th>\n",
       "      <td>LEAD ENGINEER - PRINCIPAL ANALYST - PRINCIPAL ...</td>\n",
       "      <td>c++</td>\n",
       "    </tr>\n",
       "    <tr>\n",
       "      <th>3</th>\n",
       "      <td>LEAD ENGINEER - PRINCIPAL ANALYST - PRINCIPAL ...</td>\n",
       "      <td>java</td>\n",
       "    </tr>\n",
       "    <tr>\n",
       "      <th>3</th>\n",
       "      <td>LEAD ENGINEER - PRINCIPAL ANALYST - PRINCIPAL ...</td>\n",
       "      <td>matlab</td>\n",
       "    </tr>\n",
       "    <tr>\n",
       "      <th>...</th>\n",
       "      <td>...</td>\n",
       "      <td>...</td>\n",
       "    </tr>\n",
       "    <tr>\n",
       "      <th>785692</th>\n",
       "      <td>Data Scientist- Hybrid Work Location</td>\n",
       "      <td>r</td>\n",
       "    </tr>\n",
       "    <tr>\n",
       "      <th>785703</th>\n",
       "      <td>Data Analyst - CRYPTOGRAPHY - Full-time</td>\n",
       "      <td>NaN</td>\n",
       "    </tr>\n",
       "    <tr>\n",
       "      <th>785705</th>\n",
       "      <td>Expert Business Data Analyst - Now Hiring</td>\n",
       "      <td>sql</td>\n",
       "    </tr>\n",
       "    <tr>\n",
       "      <th>785705</th>\n",
       "      <td>Expert Business Data Analyst - Now Hiring</td>\n",
       "      <td>python</td>\n",
       "    </tr>\n",
       "    <tr>\n",
       "      <th>785705</th>\n",
       "      <td>Expert Business Data Analyst - Now Hiring</td>\n",
       "      <td>tableau</td>\n",
       "    </tr>\n",
       "  </tbody>\n",
       "</table>\n",
       "<p>1073565 rows × 2 columns</p>\n",
       "</div>"
      ],
      "text/plain": [
       "                                                job_title job_skills\n",
       "0       Senior Clinical Data Engineer / Principal Clin...        NaN\n",
       "3       LEAD ENGINEER - PRINCIPAL ANALYST - PRINCIPAL ...     python\n",
       "3       LEAD ENGINEER - PRINCIPAL ANALYST - PRINCIPAL ...        c++\n",
       "3       LEAD ENGINEER - PRINCIPAL ANALYST - PRINCIPAL ...       java\n",
       "3       LEAD ENGINEER - PRINCIPAL ANALYST - PRINCIPAL ...     matlab\n",
       "...                                                   ...        ...\n",
       "785692               Data Scientist- Hybrid Work Location          r\n",
       "785703            Data Analyst - CRYPTOGRAPHY - Full-time        NaN\n",
       "785705          Expert Business Data Analyst - Now Hiring        sql\n",
       "785705          Expert Business Data Analyst - Now Hiring     python\n",
       "785705          Expert Business Data Analyst - Now Hiring    tableau\n",
       "\n",
       "[1073565 rows x 2 columns]"
      ]
     },
     "execution_count": 6,
     "metadata": {},
     "output_type": "execute_result"
    }
   ],
   "source": [
    "df_skills = df_US.explode('job_skills')\n",
    "\n",
    "df_skills[['job_title', 'job_skills']]"
   ]
  },
  {
   "cell_type": "markdown",
   "metadata": {},
   "source": [
    "## Count Skills per Job Title\n",
    "\n",
    "Groups DataFrame by `job_skills` and `job_title_short`, counting the occurrences of each skill within each job title. Then resets the index of the Series to turn it back into a DataFrame and renames the series holding the count to 'count'. The final DataFrame, `df_skills_count`, shows the frequency of each skill with each job title."
   ]
  },
  {
   "cell_type": "code",
   "execution_count": 7,
   "metadata": {},
   "outputs": [
    {
     "data": {
      "text/html": [
       "<div>\n",
       "<style scoped>\n",
       "    .dataframe tbody tr th:only-of-type {\n",
       "        vertical-align: middle;\n",
       "    }\n",
       "\n",
       "    .dataframe tbody tr th {\n",
       "        vertical-align: top;\n",
       "    }\n",
       "\n",
       "    .dataframe thead th {\n",
       "        text-align: right;\n",
       "    }\n",
       "</style>\n",
       "<table border=\"1\" class=\"dataframe\">\n",
       "  <thead>\n",
       "    <tr style=\"text-align: right;\">\n",
       "      <th></th>\n",
       "      <th>job_skills</th>\n",
       "      <th>job_title_short</th>\n",
       "      <th>skill_count</th>\n",
       "    </tr>\n",
       "  </thead>\n",
       "  <tbody>\n",
       "    <tr>\n",
       "      <th>1209</th>\n",
       "      <td>python</td>\n",
       "      <td>Data Scientist</td>\n",
       "      <td>42379</td>\n",
       "    </tr>\n",
       "    <tr>\n",
       "      <th>1521</th>\n",
       "      <td>sql</td>\n",
       "      <td>Data Analyst</td>\n",
       "      <td>34452</td>\n",
       "    </tr>\n",
       "    <tr>\n",
       "      <th>1523</th>\n",
       "      <td>sql</td>\n",
       "      <td>Data Scientist</td>\n",
       "      <td>30034</td>\n",
       "    </tr>\n",
       "    <tr>\n",
       "      <th>455</th>\n",
       "      <td>excel</td>\n",
       "      <td>Data Analyst</td>\n",
       "      <td>27519</td>\n",
       "    </tr>\n",
       "    <tr>\n",
       "      <th>1243</th>\n",
       "      <td>r</td>\n",
       "      <td>Data Scientist</td>\n",
       "      <td>26022</td>\n",
       "    </tr>\n",
       "    <tr>\n",
       "      <th>...</th>\n",
       "      <td>...</td>\n",
       "      <td>...</td>\n",
       "      <td>...</td>\n",
       "    </tr>\n",
       "    <tr>\n",
       "      <th>245</th>\n",
       "      <td>clojure</td>\n",
       "      <td>Software Engineer</td>\n",
       "      <td>1</td>\n",
       "    </tr>\n",
       "    <tr>\n",
       "      <th>1738</th>\n",
       "      <td>vb.net</td>\n",
       "      <td>Senior Data Scientist</td>\n",
       "      <td>1</td>\n",
       "    </tr>\n",
       "    <tr>\n",
       "      <th>530</th>\n",
       "      <td>fortran</td>\n",
       "      <td>Machine Learning Engineer</td>\n",
       "      <td>1</td>\n",
       "    </tr>\n",
       "    <tr>\n",
       "      <th>1116</th>\n",
       "      <td>planner</td>\n",
       "      <td>Cloud Engineer</td>\n",
       "      <td>1</td>\n",
       "    </tr>\n",
       "    <tr>\n",
       "      <th>960</th>\n",
       "      <td>nltk</td>\n",
       "      <td>Senior Data Engineer</td>\n",
       "      <td>1</td>\n",
       "    </tr>\n",
       "  </tbody>\n",
       "</table>\n",
       "<p>1870 rows × 3 columns</p>\n",
       "</div>"
      ],
      "text/plain": [
       "     job_skills            job_title_short  skill_count\n",
       "1209     python             Data Scientist        42379\n",
       "1521        sql               Data Analyst        34452\n",
       "1523        sql             Data Scientist        30034\n",
       "455       excel               Data Analyst        27519\n",
       "1243          r             Data Scientist        26022\n",
       "...         ...                        ...          ...\n",
       "245     clojure          Software Engineer            1\n",
       "1738     vb.net      Senior Data Scientist            1\n",
       "530     fortran  Machine Learning Engineer            1\n",
       "1116    planner             Cloud Engineer            1\n",
       "960        nltk       Senior Data Engineer            1\n",
       "\n",
       "[1870 rows x 3 columns]"
      ]
     },
     "execution_count": 7,
     "metadata": {},
     "output_type": "execute_result"
    }
   ],
   "source": [
    "# Group by job_skills and job_title_short and count the number of occurrences\n",
    "df_skills_count = df_skills.groupby(['job_skills', 'job_title_short']).size()\n",
    "\n",
    "# Name the count column as count\n",
    "df_skills_count = df_skills_count.reset_index(name='skill_count')\n",
    "\n",
    "# Sort the values by skill_count in descending order\n",
    "df_skills_count.sort_values(by='skill_count', ascending=False, inplace=True)\n",
    "\n",
    "df_skills_count"
   ]
  },
  {
   "cell_type": "markdown",
   "metadata": {},
   "source": [
    "## Create List of Top 3 Roles\n",
    "\n",
    "#### Focus: Data Analysts, Data Engineers, and Data Scientists\n",
    "\n",
    "Filter the job titles based on the most popular."
   ]
  },
  {
   "cell_type": "code",
   "execution_count": 8,
   "metadata": {},
   "outputs": [
    {
     "data": {
      "text/plain": [
       "['Data Analyst', 'Data Engineer', 'Data Scientist']"
      ]
     },
     "execution_count": 8,
     "metadata": {},
     "output_type": "execute_result"
    }
   ],
   "source": [
    "job_titles = df_skills_count['job_title_short'].unique().tolist()\n",
    "\n",
    "job_titles = sorted(job_titles[:3])\n",
    "\n",
    "job_titles"
   ]
  },
  {
   "cell_type": "markdown",
   "metadata": {},
   "source": [
    "## Plot Skill Counts"
   ]
  },
  {
   "cell_type": "markdown",
   "metadata": {},
   "source": [
    "Creates a stacked horizontal bar chart for the top 5 skills for Top 3 roles, displaying the frequency of each skill. "
   ]
  },
  {
   "cell_type": "code",
   "execution_count": 9,
   "metadata": {},
   "outputs": [
    {
     "data": {
      "image/png": "[encoded data removed]",
      "text/plain": [
       "<Figure size 640x480 with 3 Axes>"
      ]
     },
     "metadata": {},
     "output_type": "display_data"
    }
   ],
   "source": [
    "fig, ax = plt.subplots(len(job_titles),1)\n",
    "\n",
    "for i, job_title in enumerate(job_titles):\n",
    "    df_plot = df_skills_count[df_skills_count['job_title_short'] == job_title].head(5)\n",
    "    df_plot.plot(kind='barh', x = 'job_skills', y='skill_count', ax=ax[i], title=job_title)\n",
    "    ax[i].invert_yaxis()\n",
    "    \n",
    "fig.suptitle('Counts of Top Skills in Job Postings',fontsize=15)\n",
    "fig.tight_layout(h_pad=0.5)\n",
    "plt.show()"
   ]
  },
  {
   "cell_type": "markdown",
   "metadata": {},
   "source": [
    "## Convert Counts to Percentages\n",
    "\n",
    "#### Focus: Counts don't show what portions of jobs are requesting these skills\n",
    "\n",
    "So we'll convert the counts into percentages which helps us understand how each job title represents relative to the entire dataset. "
   ]
  },
  {
   "cell_type": "markdown",
   "metadata": {},
   "source": [
    "Before we can calculate the percentages we need the total counts for the jobs posted by job title. Calculate the frequency of each job title using the `value_counts()` method on the `job_title_short` column. Then reset the index to transform the Series into a DataFrame and renames the columns to `job_title_short` and `total`. The DataFrame `df_job_title_count` now holds a list of job titles alongside their total occurrences."
   ]
  },
  {
   "cell_type": "code",
   "execution_count": 10,
   "metadata": {},
   "outputs": [
    {
     "data": {
      "text/html": [
       "<div>\n",
       "<style scoped>\n",
       "    .dataframe tbody tr th:only-of-type {\n",
       "        vertical-align: middle;\n",
       "    }\n",
       "\n",
       "    .dataframe tbody tr th {\n",
       "        vertical-align: top;\n",
       "    }\n",
       "\n",
       "    .dataframe thead th {\n",
       "        text-align: right;\n",
       "    }\n",
       "</style>\n",
       "<table border=\"1\" class=\"dataframe\">\n",
       "  <thead>\n",
       "    <tr style=\"text-align: right;\">\n",
       "      <th></th>\n",
       "      <th>job_title_short</th>\n",
       "      <th>jobs_total</th>\n",
       "    </tr>\n",
       "  </thead>\n",
       "  <tbody>\n",
       "    <tr>\n",
       "      <th>0</th>\n",
       "      <td>Data Analyst</td>\n",
       "      <td>67816</td>\n",
       "    </tr>\n",
       "    <tr>\n",
       "      <th>1</th>\n",
       "      <td>Data Scientist</td>\n",
       "      <td>58830</td>\n",
       "    </tr>\n",
       "    <tr>\n",
       "      <th>2</th>\n",
       "      <td>Data Engineer</td>\n",
       "      <td>35080</td>\n",
       "    </tr>\n",
       "    <tr>\n",
       "      <th>3</th>\n",
       "      <td>Senior Data Scientist</td>\n",
       "      <td>12946</td>\n",
       "    </tr>\n",
       "    <tr>\n",
       "      <th>4</th>\n",
       "      <td>Senior Data Analyst</td>\n",
       "      <td>11791</td>\n",
       "    </tr>\n",
       "    <tr>\n",
       "      <th>5</th>\n",
       "      <td>Senior Data Engineer</td>\n",
       "      <td>9289</td>\n",
       "    </tr>\n",
       "    <tr>\n",
       "      <th>6</th>\n",
       "      <td>Business Analyst</td>\n",
       "      <td>7382</td>\n",
       "    </tr>\n",
       "    <tr>\n",
       "      <th>7</th>\n",
       "      <td>Software Engineer</td>\n",
       "      <td>1814</td>\n",
       "    </tr>\n",
       "    <tr>\n",
       "      <th>8</th>\n",
       "      <td>Machine Learning Engineer</td>\n",
       "      <td>921</td>\n",
       "    </tr>\n",
       "    <tr>\n",
       "      <th>9</th>\n",
       "      <td>Cloud Engineer</td>\n",
       "      <td>423</td>\n",
       "    </tr>\n",
       "  </tbody>\n",
       "</table>\n",
       "</div>"
      ],
      "text/plain": [
       "             job_title_short  jobs_total\n",
       "0               Data Analyst       67816\n",
       "1             Data Scientist       58830\n",
       "2              Data Engineer       35080\n",
       "3      Senior Data Scientist       12946\n",
       "4        Senior Data Analyst       11791\n",
       "5       Senior Data Engineer        9289\n",
       "6           Business Analyst        7382\n",
       "7          Software Engineer        1814\n",
       "8  Machine Learning Engineer         921\n",
       "9             Cloud Engineer         423"
      ]
     },
     "execution_count": 10,
     "metadata": {},
     "output_type": "execute_result"
    }
   ],
   "source": [
    "# Use original df to get the count of job titles\n",
    "df_job_title_count = df_US['job_title_short'].value_counts().reset_index(name='jobs_total')\n",
    "\n",
    "df_job_title_count"
   ]
  },
  {
   "cell_type": "markdown",
   "metadata": {},
   "source": [
    "Then we calculate the percentages. First merge `df_skills_count` and `df_job_title_count`, based on the 'job_title_short' column, ensuring each skill count is associated with the total number of job postings for that title. Then calculate the percentage of each skill within its job title by dividing the skill count by the total job postings and multiplying by 100, adding this new data as a 'percentage' column. "
   ]
  },
  {
   "cell_type": "code",
   "execution_count": 12,
   "metadata": {},
   "outputs": [
    {
     "data": {
      "text/html": [
       "<div>\n",
       "<style scoped>\n",
       "    .dataframe tbody tr th:only-of-type {\n",
       "        vertical-align: middle;\n",
       "    }\n",
       "\n",
       "    .dataframe tbody tr th {\n",
       "        vertical-align: top;\n",
       "    }\n",
       "\n",
       "    .dataframe thead th {\n",
       "        text-align: right;\n",
       "    }\n",
       "</style>\n",
       "<table border=\"1\" class=\"dataframe\">\n",
       "  <thead>\n",
       "    <tr style=\"text-align: right;\">\n",
       "      <th></th>\n",
       "      <th>job_skills</th>\n",
       "      <th>job_title_short</th>\n",
       "      <th>skill_count</th>\n",
       "      <th>jobs_total</th>\n",
       "      <th>skill_percent</th>\n",
       "    </tr>\n",
       "  </thead>\n",
       "  <tbody>\n",
       "    <tr>\n",
       "      <th>0</th>\n",
       "      <td>python</td>\n",
       "      <td>Data Scientist</td>\n",
       "      <td>42379</td>\n",
       "      <td>58830</td>\n",
       "      <td>72.036376</td>\n",
       "    </tr>\n",
       "    <tr>\n",
       "      <th>1</th>\n",
       "      <td>sql</td>\n",
       "      <td>Data Analyst</td>\n",
       "      <td>34452</td>\n",
       "      <td>67816</td>\n",
       "      <td>50.802171</td>\n",
       "    </tr>\n",
       "    <tr>\n",
       "      <th>2</th>\n",
       "      <td>sql</td>\n",
       "      <td>Data Scientist</td>\n",
       "      <td>30034</td>\n",
       "      <td>58830</td>\n",
       "      <td>51.052184</td>\n",
       "    </tr>\n",
       "    <tr>\n",
       "      <th>3</th>\n",
       "      <td>excel</td>\n",
       "      <td>Data Analyst</td>\n",
       "      <td>27519</td>\n",
       "      <td>67816</td>\n",
       "      <td>40.578919</td>\n",
       "    </tr>\n",
       "    <tr>\n",
       "      <th>4</th>\n",
       "      <td>r</td>\n",
       "      <td>Data Scientist</td>\n",
       "      <td>26022</td>\n",
       "      <td>58830</td>\n",
       "      <td>44.232534</td>\n",
       "    </tr>\n",
       "    <tr>\n",
       "      <th>...</th>\n",
       "      <td>...</td>\n",
       "      <td>...</td>\n",
       "      <td>...</td>\n",
       "      <td>...</td>\n",
       "      <td>...</td>\n",
       "    </tr>\n",
       "    <tr>\n",
       "      <th>1865</th>\n",
       "      <td>clojure</td>\n",
       "      <td>Software Engineer</td>\n",
       "      <td>1</td>\n",
       "      <td>1814</td>\n",
       "      <td>0.055127</td>\n",
       "    </tr>\n",
       "    <tr>\n",
       "      <th>1866</th>\n",
       "      <td>vb.net</td>\n",
       "      <td>Senior Data Scientist</td>\n",
       "      <td>1</td>\n",
       "      <td>12946</td>\n",
       "      <td>0.007724</td>\n",
       "    </tr>\n",
       "    <tr>\n",
       "      <th>1867</th>\n",
       "      <td>fortran</td>\n",
       "      <td>Machine Learning Engineer</td>\n",
       "      <td>1</td>\n",
       "      <td>921</td>\n",
       "      <td>0.108578</td>\n",
       "    </tr>\n",
       "    <tr>\n",
       "      <th>1868</th>\n",
       "      <td>planner</td>\n",
       "      <td>Cloud Engineer</td>\n",
       "      <td>1</td>\n",
       "      <td>423</td>\n",
       "      <td>0.236407</td>\n",
       "    </tr>\n",
       "    <tr>\n",
       "      <th>1869</th>\n",
       "      <td>nltk</td>\n",
       "      <td>Senior Data Engineer</td>\n",
       "      <td>1</td>\n",
       "      <td>9289</td>\n",
       "      <td>0.010765</td>\n",
       "    </tr>\n",
       "  </tbody>\n",
       "</table>\n",
       "<p>1870 rows × 5 columns</p>\n",
       "</div>"
      ],
      "text/plain": [
       "     job_skills            job_title_short  skill_count  jobs_total  \\\n",
       "0        python             Data Scientist        42379       58830   \n",
       "1           sql               Data Analyst        34452       67816   \n",
       "2           sql             Data Scientist        30034       58830   \n",
       "3         excel               Data Analyst        27519       67816   \n",
       "4             r             Data Scientist        26022       58830   \n",
       "...         ...                        ...          ...         ...   \n",
       "1865    clojure          Software Engineer            1        1814   \n",
       "1866     vb.net      Senior Data Scientist            1       12946   \n",
       "1867    fortran  Machine Learning Engineer            1         921   \n",
       "1868    planner             Cloud Engineer            1         423   \n",
       "1869       nltk       Senior Data Engineer            1        9289   \n",
       "\n",
       "      skill_percent  \n",
       "0         72.036376  \n",
       "1         50.802171  \n",
       "2         51.052184  \n",
       "3         40.578919  \n",
       "4         44.232534  \n",
       "...             ...  \n",
       "1865       0.055127  \n",
       "1866       0.007724  \n",
       "1867       0.108578  \n",
       "1868       0.236407  \n",
       "1869       0.010765  \n",
       "\n",
       "[1870 rows x 5 columns]"
      ]
     },
     "execution_count": 12,
     "metadata": {},
     "output_type": "execute_result"
    }
   ],
   "source": [
    "df_skills_perc = pd.merge(df_skills_count, df_job_title_count, on='job_title_short', how='left')\n",
    "\n",
    "df_skills_perc['skill_percent'] = (df_skills_perc['skill_count'] / df_skills_perc['jobs_total']) * 100\n",
    "\n",
    "df_skills_perc"
   ]
  },
  {
   "cell_type": "markdown",
   "metadata": {},
   "source": [
    "## Plot Percentage Count"
   ]
  },
  {
   "cell_type": "markdown",
   "metadata": {},
   "source": [
    "Filters and sorts a DataFrame to get the top 5 skills percentages for these top 3 roles. After sorting the skills by descending percentage, reverse the order of these top 5 entries to use in a horizontal bar plot, which by default starts plotting from the bottom."
   ]
  },
  {
   "cell_type": "code",
   "execution_count": 14,
   "metadata": {},
   "outputs": [
    {
     "data": {
      "image/png": "[encoded data removed]",
      "text/plain": [
       "<Figure size 640x480 with 3 Axes>"
      ]
     },
     "metadata": {},
     "output_type": "display_data"
    }
   ],
   "source": [
    "fig, ax = plt.subplots(len(job_titles), 1)\n",
    "\n",
    "\n",
    "for i, job_title in enumerate(job_titles):\n",
    "    df_plot = df_skills_perc[df_skills_perc['job_title_short'] == job_title].head(5)\n",
    "    sns.barplot(data=df_plot, x='skill_percent', y='job_skills', ax=ax[i], hue='skill_count', palette='dark:b_r', dodge=False)\n",
    "    ax[i].set_title(job_title)\n",
    "    ax[i].set_ylabel('')\n",
    "    ax[i].set_xlabel('')\n",
    "    ax[i].get_legend().remove()\n",
    "    ax[i].set_xlim(0, 78)\n",
    "    # remove the x-axis tick labels for better readability\n",
    "    if i != len(job_titles) - 1:\n",
    "        ax[i].set_xticks([])\n",
    "\n",
    "    # label the percentage on the bars\n",
    "    for n, v in enumerate(df_plot['skill_percent']):\n",
    "        ax[i].text(v + 1, n, f'{v:.0f}%', va='center')\n",
    "\n",
    "fig.suptitle('Likelihood of Skills Requested in US Job Postings', fontsize=15)\n",
    "fig.tight_layout(h_pad=.8)\n",
    "plt.show()"
   ]
  }
 ],
 "metadata": {
  "kernelspec": {
   "display_name": "Python 3",
   "language": "python",
   "name": "python3"
  },
  "language_info": {
   "codemirror_mode": {
    "name": "ipython",
    "version": 3
   },
   "file_extension": ".py",
   "mimetype": "text/x-python",
   "name": "python",
   "nbconvert_exporter": "python",
   "pygments_lexer": "ipython3",
   "version": "3.11.9"
  }
 },
 "nbformat": 4,
 "nbformat_minor": 2
}
